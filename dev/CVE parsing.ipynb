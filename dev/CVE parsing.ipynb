{
 "cells": [
  {
   "cell_type": "code",
   "execution_count": 13,
   "metadata": {},
   "outputs": [
    {
     "name": "stdout",
     "output_type": "stream",
     "text": [
      "[\r",
      "\r\n",
      "{\"cve_id\":\"CVE-2020-10255\",\"cwe_id\":\"20\",\"summary\":\"Modern DRAM chips (DDR4 and LPDDR4 after 2015) are affected by a vulnerability in deployment of internal mitigations against RowHammer attacks known as Target Row Refresh (TRR), aka the TRRespass issue. To exploit this vulnerability, the attacker needs to create certain access patterns to trigger bit flips on affected memory modules, aka a Many-sided RowHammer attack. This means that, even when chips advertised as RowHammer-free are used, attackers may still be able to conduct privilege-escalation attacks against the kernel, conduct privilege-escalation attacks against the Sudo binary, and achieve cross-tenant virtual-machine access by corrupting RSA keys. The issue affects chips produced by SK Hynix, Micron, and Samsung. NOTE: tracking DRAM supply-chain issues is not straightforward because a single product model from a single vendor may use DRAM chips from different manufacturers.\",\"cvss_score\":\"9.3\",\"exploit_count\":\"0\",\"publish_date\":\"2020-03-10\",\"update_date\":\"2020-03-16\",\"url\":\"http:\\/\\/www.cvedetails.com\\/cve\\/CVE-2020-10255\\/\"}\r",
      "\r\n",
      "]"
     ]
    }
   ],
   "source": [
    "!curl \"https://www.cvedetails.com/json-feed.php?product_id=82832\""
   ]
  },
  {
   "cell_type": "code",
   "execution_count": 5,
   "metadata": {},
   "outputs": [
    {
     "name": "stdout",
     "output_type": "stream",
     "text": [
      "[\r",
      "\r\n",
      "{\"cve_id\":\"CVE-2022-0002\",\"cwe_id\":\"0\",\"summary\":\"Non-transparent sharing of branch predictor within a context in some Intel(R) Processors may allow an authorized user to potentially enable information disclosure via local access.\",\"cvss_score\":\"2.1\",\"exploit_count\":\"0\",\"publish_date\":\"2022-03-11\",\"update_date\":\"2022-08-19\",\"url\":\"http:\\/\\/www.cvedetails.com\\/cve\\/CVE-2022-0002\\/\"}\r",
      "\r\n",
      ",\r",
      "\r\n",
      "{\"cve_id\":\"CVE-2022-0001\",\"cwe_id\":\"0\",\"summary\":\"Non-transparent sharing of branch predictor selectors between contexts in some Intel(R) Processors may allow an authorized user to potentially enable information disclosure via local access.\",\"cvss_score\":\"2.1\",\"exploit_count\":\"0\",\"publish_date\":\"2022-03-11\",\"update_date\":\"2022-08-19\",\"url\":\"http:\\/\\/www.cvedetails.com\\/cve\\/CVE-2022-0001\\/\"}\r",
      "\r\n",
      ",\r",
      "\r\n",
      "{\"cve_id\":\"CVE-2021-33150\",\"cwe_id\":\"0\",\"summary\":\"Hardware allows activation of test or debug logic at runtime for some Intel(R) Trace Hub instances which may allow an unauthenticated user to potentially enable escalation of privilege via physical access.\",\"cvss_score\":\"4.6\",\"exploit_count\":\"0\",\"publish_date\":\"2022-03-11\",\"update_date\":\"2022-03-18\",\"url\":\"http:\\/\\/www.cvedetails.com\\/cve\\/CVE-2021-33150\\/\"}\r",
      "\r\n",
      ",\r",
      "\r\n",
      "{\"cve_id\":\"CVE-2021-26314\",\"cwe_id\":\"668\",\"summary\":\"Potential floating point value injection in all supported CPU products, in conjunction with software vulnerabilities relating to speculative execution with incorrect floating point results, may cause the use of incorrect data from FPVI and may result in data leakage.\",\"cvss_score\":\"2.1\",\"exploit_count\":\"0\",\"publish_date\":\"2021-06-09\",\"update_date\":\"2022-06-03\",\"url\":\"http:\\/\\/www.cvedetails.com\\/cve\\/CVE-2021-26314\\/\"}\r",
      "\r\n",
      ",\r",
      "\r\n",
      "{\"cve_id\":\"CVE-2021-26313\",\"cwe_id\":\"203\",\"summary\":\"Potential speculative code store bypass in all supported CPU products, in conjunction with software vulnerabilities relating to speculative execution of overwritten instructions, may cause an incorrect speculation and could result in data leakage.\",\"cvss_score\":\"2.1\",\"exploit_count\":\"0\",\"publish_date\":\"2021-06-09\",\"update_date\":\"2022-08-01\",\"url\":\"http:\\/\\/www.cvedetails.com\\/cve\\/CVE-2021-26313\\/\"}\r",
      "\r\n",
      ",\r",
      "\r\n",
      "{\"cve_id\":\"CVE-2021-0158\",\"cwe_id\":\"20\",\"summary\":\"Improper input validation in the BIOS firmware for some Intel(R) Processors may allow a privileged user to potentially enable escalation of privilege via local access.\",\"cvss_score\":\"4.6\",\"exploit_count\":\"0\",\"publish_date\":\"2021-11-17\",\"update_date\":\"2021-11-22\",\"url\":\"http:\\/\\/www.cvedetails.com\\/cve\\/CVE-2021-0158\\/\"}\r",
      "\r\n",
      ",\r",
      "\r\n",
      "{\"cve_id\":\"CVE-2021-0157\",\"cwe_id\":\"0\",\"summary\":\"Insufficient control flow management in the BIOS firmware for some Intel(R) Processors may allow a privileged user to potentially enable escalation of privilege via local access.\",\"cvss_score\":\"4.6\",\"exploit_count\":\"0\",\"publish_date\":\"2021-11-17\",\"update_date\":\"2022-05-03\",\"url\":\"http:\\/\\/www.cvedetails.com\\/cve\\/CVE-2021-0157\\/\"}\r",
      "\r\n",
      ",\r",
      "\r\n",
      "{\"cve_id\":\"CVE-2021-0144\",\"cwe_id\":\"1188\",\"summary\":\"Insecure default variable initialization for the Intel BSSA DFT feature may allow a privileged user to potentially enable an escalation of privilege via local access.\",\"cvss_score\":\"7.2\",\"exploit_count\":\"0\",\"publish_date\":\"2021-07-14\",\"update_date\":\"2022-02-24\",\"url\":\"http:\\/\\/www.cvedetails.com\\/cve\\/CVE-2021-0144\\/\"}\r",
      "\r\n",
      ",\r",
      "\r\n",
      "{\"cve_id\":\"CVE-2021-0127\",\"cwe_id\":\"0\",\"summary\":\"Insufficient control flow management in some Intel(R) Processors may allow an authenticated user to potentially enable a denial of service via local access.\",\"cvss_score\":\"2.1\",\"exploit_count\":\"0\",\"publish_date\":\"2022-02-09\",\"update_date\":\"2022-02-15\",\"url\":\"http:\\/\\/www.cvedetails.com\\/cve\\/CVE-2021-0127\\/\"}\r",
      "\r\n",
      ",\r",
      "\r\n",
      "{\"cve_id\":\"CVE-2021-0115\",\"cwe_id\":\"120\",\"summary\":\"Buffer overflow in the firmware for some Intel(R) Processors may allow a privileged user to potentially enable escalation of privilege via local access.\",\"cvss_score\":\"4.6\",\"exploit_count\":\"0\",\"publish_date\":\"2022-02-09\",\"update_date\":\"2022-02-25\",\"url\":\"http:\\/\\/www.cvedetails.com\\/cve\\/CVE-2021-0115\\/\"}\r",
      "\r\n",
      "]"
     ]
    }
   ],
   "source": [
    "!curl \"https://www.cvedetails.com/json-feed.php?product_id=84282\""
   ]
  },
  {
   "cell_type": "code",
   "execution_count": 6,
   "metadata": {},
   "outputs": [
    {
     "name": "stdout",
     "output_type": "stream",
     "text": [
      "[\r",
      "\r\n",
      "{\"cve_id\":\"CVE-2017-5927\",\"cwe_id\":\"200\",\"summary\":\"Page table walks conducted by the MMU during virtual to physical address translation leave a trace in the last level cache of modern ARM processors. By performing a side-channel attack on the MMU operations, it is possible to leak data and code pointers from JavaScript, breaking ASLR.\",\"cvss_score\":\"5.0\",\"exploit_count\":\"0\",\"publish_date\":\"2017-02-27\",\"update_date\":\"2017-03-02\",\"url\":\"http:\\/\\/www.cvedetails.com\\/cve\\/CVE-2017-5927\\/\"}\r",
      "\r\n",
      ",\r",
      "\r\n",
      "{\"cve_id\":\"CVE-2017-5926\",\"cwe_id\":\"200\",\"summary\":\"Page table walks conducted by the MMU during virtual to physical address translation leave a trace in the last level cache of modern AMD processors. By performing a side-channel attack on the MMU operations, it is possible to leak data and code pointers from JavaScript, breaking ASLR.\",\"cvss_score\":\"5.0\",\"exploit_count\":\"0\",\"publish_date\":\"2017-02-27\",\"update_date\":\"2017-03-02\",\"url\":\"http:\\/\\/www.cvedetails.com\\/cve\\/CVE-2017-5926\\/\"}\r",
      "\r\n",
      ",\r",
      "\r\n",
      "{\"cve_id\":\"CVE-2017-5925\",\"cwe_id\":\"200\",\"summary\":\"Page table walks conducted by the MMU during virtual to physical address translation leave a trace in the last level cache of modern Intel processors. By performing a side-channel attack on the MMU operations, it is possible to leak data and code pointers from JavaScript, breaking ASLR.\",\"cvss_score\":\"5.0\",\"exploit_count\":\"0\",\"publish_date\":\"2017-02-27\",\"update_date\":\"2017-03-02\",\"url\":\"http:\\/\\/www.cvedetails.com\\/cve\\/CVE-2017-5925\\/\"}\r",
      "\r\n",
      "]"
     ]
    }
   ],
   "source": [
    "!curl \"https://www.cvedetails.com/json-feed.php?product_id=36030\""
   ]
  },
  {
   "cell_type": "code",
   "execution_count": 7,
   "metadata": {},
   "outputs": [
    {
     "name": "stdout",
     "output_type": "stream",
     "text": [
      "[\r",
      "\r\n",
      "{\"cve_id\":\"CVE-2010-2825\",\"cwe_id\":\"0\",\"summary\":\"Unspecified vulnerability in the SIP inspection feature on the Cisco Application Control Engine (ACE) Module with software A2(1.x) before A2(1.6), A2(2.x) before A2(2.3), and A2(3.x) before A2(3.1) for Catalyst 6500 series switches and 7600 series routers, and the Cisco Application Control Engine (ACE) 4710 appliance with software before A3(2.4), allows remote attackers to cause a denial of service (device reload) via crafted SIP packets over (1) TCP or (2) UDP, aka Bug IDs CSCta65603 and CSCta71569.\",\"cvss_score\":\"7.8\",\"exploit_count\":\"0\",\"publish_date\":\"2010-08-17\",\"update_date\":\"2011-07-26\",\"url\":\"http:\\/\\/www.cvedetails.com\\/cve\\/CVE-2010-2825\\/\"}\r",
      "\r\n",
      ",\r",
      "\r\n",
      "{\"cve_id\":\"CVE-2010-2823\",\"cwe_id\":\"0\",\"summary\":\"Unspecified vulnerability in the deep packet inspection feature on the Cisco Application Control Engine (ACE) 4710 appliance with software before A3(2.6) allows remote attackers to cause a denial of service (device reload) via crafted HTTP packets, related to HTTP, RTSP, and SIP inspection, aka Bug ID CSCtb54493.\",\"cvss_score\":\"7.8\",\"exploit_count\":\"0\",\"publish_date\":\"2010-08-17\",\"update_date\":\"2011-07-26\",\"url\":\"http:\\/\\/www.cvedetails.com\\/cve\\/CVE-2010-2823\\/\"}\r",
      "\r\n",
      ",\r",
      "\r\n",
      "{\"cve_id\":\"CVE-2010-2822\",\"cwe_id\":\"0\",\"summary\":\"Unspecified vulnerability in the RTSP inspection feature on the Cisco Application Control Engine (ACE) Module with software before A2(3.2) for Catalyst 6500 series switches and 7600 series routers, and the Cisco Application Control Engine (ACE) 4710 appliance with software before A3(2.6), allows remote attackers to cause a denial of service (device reload) via crafted RTSP packets over TCP, aka Bug IDs CSCta85227 and CSCtg14858.\",\"cvss_score\":\"7.8\",\"exploit_count\":\"0\",\"publish_date\":\"2010-08-17\",\"update_date\":\"2011-08-08\",\"url\":\"http:\\/\\/www.cvedetails.com\\/cve\\/CVE-2010-2822\\/\"}\r",
      "\r\n",
      ",\r",
      "\r\n",
      "{\"cve_id\":\"CVE-2010-2629\",\"cwe_id\":\"20\",\"summary\":\"The Cisco Content Services Switch (CSS) 11500 with software 8.20.4.02 and the Application Control Engine (ACE) 4710 with software A2(3.0) do not properly handle LF header terminators in situations where the GET line is terminated by CRLF, which allows remote attackers to conduct HTTP request smuggling attacks and possibly bypass intended header insertions via crafted header data, as demonstrated by an LF character between the ClientCert-Subject and ClientCert-Subject-CN headers. NOTE: this vulnerability exists because of an incomplete fix for CVE-2010-1576.\",\"cvss_score\":\"7.5\",\"exploit_count\":\"0\",\"publish_date\":\"2010-07-06\",\"update_date\":\"2018-10-10\",\"url\":\"http:\\/\\/www.cvedetails.com\\/cve\\/CVE-2010-2629\\/\"}\r",
      "\r\n",
      ",\r",
      "\r\n",
      "{\"cve_id\":\"CVE-2010-1576\",\"cwe_id\":\"20\",\"summary\":\"The Cisco Content Services Switch (CSS) 11500 with software before 8.20.4.02 and the Application Control Engine (ACE) 4710 with software before A2(3.0) do not properly handle use of LF, CR, and LFCR as alternatives to the standard CRLF sequence between HTTP headers, which allows remote attackers to bypass intended header insertions or conduct HTTP request smuggling attacks via crafted header data, as demonstrated by LF characters preceding ClientCert-Subject and ClientCert-Subject-CN headers, aka Bug ID CSCta04885.\",\"cvss_score\":\"7.5\",\"exploit_count\":\"0\",\"publish_date\":\"2010-07-06\",\"update_date\":\"2018-10-10\",\"url\":\"http:\\/\\/www.cvedetails.com\\/cve\\/CVE-2010-1576\\/\"}\r",
      "\r\n",
      ",\r",
      "\r\n",
      "{\"cve_id\":\"CVE-2009-0742\",\"cwe_id\":\"310\",\"summary\":\"The username command in Cisco ACE Application Control Engine Module for Catalyst 6500 Switches and 7600 Routers and Cisco ACE 4710 Application Control Engine Appliance stores a cleartext password by default, which allows context-dependent attackers to obtain sensitive information.\",\"cvss_score\":\"7.8\",\"exploit_count\":\"0\",\"publish_date\":\"2009-02-26\",\"update_date\":\"2009-02-27\",\"url\":\"http:\\/\\/www.cvedetails.com\\/cve\\/CVE-2009-0742\\/\"}\r",
      "\r\n",
      ",\r",
      "\r\n",
      "{\"cve_id\":\"CVE-2009-0624\",\"cwe_id\":\"0\",\"summary\":\"Unspecified vulnerability in the SNMPv2c implementation in Cisco ACE Application Control Engine Module for Catalyst 6500 Switches and 7600 Routers before A2(1.3) and Cisco ACE 4710 Application Control Engine Appliance before A3(2.1) allows remote attackers to cause a denial of service (device reload) via a crafted SNMPv1 packet.\",\"cvss_score\":\"6.8\",\"exploit_count\":\"0\",\"publish_date\":\"2009-02-26\",\"update_date\":\"2009-03-03\",\"url\":\"http:\\/\\/www.cvedetails.com\\/cve\\/CVE-2009-0624\\/\"}\r",
      "\r\n",
      ",\r",
      "\r\n",
      "{\"cve_id\":\"CVE-2009-0622\",\"cwe_id\":\"0\",\"summary\":\"Unspecified vulnerability in Cisco ACE Application Control Engine Module for Catalyst 6500 Switches and 7600 Routers before A2(1.2) and Cisco ACE 4710 Application Control Engine Appliance before A1(8a) allows remote authenticated users to execute arbitrary operating-system commands through a command line interface (CLI).\",\"cvss_score\":\"9.0\",\"exploit_count\":\"0\",\"publish_date\":\"2009-02-26\",\"update_date\":\"2009-02-27\",\"url\":\"http:\\/\\/www.cvedetails.com\\/cve\\/CVE-2009-0622\\/\"}\r",
      "\r\n",
      ",\r",
      "\r\n",
      "{\"cve_id\":\"CVE-2009-0621\",\"cwe_id\":\"16\",\"summary\":\"Cisco ACE 4710 Application Control Engine Appliance before A1(8a) uses default (1) usernames and (2) passwords for (a) the administrator, (b) web management, and (c) device management, which makes it easier for remote attackers to perform configuration changes to the Device Manager and other components, or obtain operating-system access.\",\"cvss_score\":\"10.0\",\"exploit_count\":\"0\",\"publish_date\":\"2009-02-26\",\"update_date\":\"2009-02-27\",\"url\":\"http:\\/\\/www.cvedetails.com\\/cve\\/CVE-2009-0621\\/\"}\r",
      "\r\n",
      "]"
     ]
    }
   ],
   "source": [
    "!curl \"https://www.cvedetails.com/json-feed.php?product_id=14220\""
   ]
  },
  {
   "cell_type": "code",
   "execution_count": 8,
   "metadata": {},
   "outputs": [
    {
     "name": "stdout",
     "output_type": "stream",
     "text": [
      "[\r",
      "\r\n",
      "{\"cve_id\":\"CVE-2007-4916\",\"cwe_id\":\"119\",\"summary\":\"Heap-based buffer overflow in the FileFind::FindFile method in (1) MFC42.dll, (2) MFC42u.dll, (3) MFC71.dll, and (4) MFC71u.dll in Microsoft Foundation Class (MFC) Library 8.0, as used by the ListFiles method in hpqutil.dll 2.0.0.138 in Hewlett-Packard (HP) All-in-One and Photo &amp; Imaging Gallery 1.1 and probably other products, allows context-dependent attackers to cause a denial of service (crash) or possibly execute arbitrary code via a long first argument.\",\"cvss_score\":\"10.0\",\"exploit_count\":\"0\",\"publish_date\":\"2007-09-17\",\"update_date\":\"2018-10-15\",\"url\":\"http:\\/\\/www.cvedetails.com\\/cve\\/CVE-2007-4916\\/\"}\r",
      "\r\n",
      "]"
     ]
    }
   ],
   "source": [
    "!curl \"https://www.cvedetails.com/json-feed.php?product_id=12109\""
   ]
  },
  {
   "cell_type": "code",
   "execution_count": 9,
   "metadata": {},
   "outputs": [
    {
     "name": "stdout",
     "output_type": "stream",
     "text": [
      "[\r",
      "\r\n",
      "{\"cve_id\":\"CVE-2020-12695\",\"cwe_id\":\"276\",\"summary\":\"The Open Connectivity Foundation UPnP specification before 2020-04-17 does not forbid the acceptance of a subscription request with a delivery URL on a different network segment than the fully qualified event-subscription URL, aka the CallStranger issue.\",\"cvss_score\":\"7.8\",\"exploit_count\":\"0\",\"publish_date\":\"2020-06-08\",\"update_date\":\"2021-04-23\",\"url\":\"http:\\/\\/www.cvedetails.com\\/cve\\/CVE-2020-12695\\/\"}\r",
      "\r\n",
      "]"
     ]
    }
   ],
   "source": [
    "!curl \"https://www.cvedetails.com/json-feed.php?product_id=87666\""
   ]
  },
  {
   "cell_type": "code",
   "execution_count": 10,
   "metadata": {},
   "outputs": [
    {
     "name": "stdout",
     "output_type": "stream",
     "text": [
      "[\r",
      "\r\n",
      "{\"cve_id\":\"CVE-2020-11296\",\"cwe_id\":\"617\",\"summary\":\"Arithmetic overflow can happen while processing NOA IE due to improper error handling in Snapdragon Auto, Snapdragon Compute, Snapdragon Connectivity, Snapdragon Consumer Electronics Connectivity, Snapdragon Consumer IOT, Snapdragon Industrial IOT, Snapdragon IoT, Snapdragon Mobile, Snapdragon Voice &amp; Music, Snapdragon Wired Infrastructure and Networking\",\"cvss_score\":\"5.0\",\"exploit_count\":\"0\",\"publish_date\":\"2021-02-22\",\"update_date\":\"2021-02-26\",\"url\":\"http:\\/\\/www.cvedetails.com\\/cve\\/CVE-2020-11296\\/\"}\r",
      "\r\n",
      ",\r",
      "\r\n",
      "{\"cve_id\":\"CVE-2020-11286\",\"cwe_id\":\"476\",\"summary\":\"An Untrusted Pointer Dereference can occur while doing USB control transfers, if multiple requests of different standard request categories like device, interface &amp; endpoint are made together. in Snapdragon Auto, Snapdragon Consumer IOT, Snapdragon Industrial IOT, Snapdragon Mobile, Snapdragon Voice &amp; Music, Snapdragon Wearables\",\"cvss_score\":\"4.6\",\"exploit_count\":\"0\",\"publish_date\":\"2021-02-22\",\"update_date\":\"2021-07-21\",\"url\":\"http:\\/\\/www.cvedetails.com\\/cve\\/CVE-2020-11286\\/\"}\r",
      "\r\n",
      ",\r",
      "\r\n",
      "{\"cve_id\":\"CVE-2020-11283\",\"cwe_id\":\"787\",\"summary\":\"A buffer overflow can occur when playing an MKV clip due to lack of input validation in Snapdragon Auto, Snapdragon Compute, Snapdragon Connectivity, Snapdragon Consumer IOT, Snapdragon Industrial IOT, Snapdragon Mobile, Snapdragon Voice &amp; Music, Snapdragon Wearables\",\"cvss_score\":\"7.5\",\"exploit_count\":\"0\",\"publish_date\":\"2021-02-22\",\"update_date\":\"2021-02-26\",\"url\":\"http:\\/\\/www.cvedetails.com\\/cve\\/CVE-2020-11283\\/\"}\r",
      "\r\n",
      ",\r",
      "\r\n",
      "{\"cve_id\":\"CVE-2020-11282\",\"cwe_id\":\"863\",\"summary\":\"Improper access control when using mmap with the kgsl driver with a special offset value that can be provided to map the memstore of the GPU to user space in Snapdragon Auto, Snapdragon Compute, Snapdragon Connectivity, Snapdragon Consumer IOT, Snapdragon Industrial IOT, Snapdragon Mobile, Snapdragon Voice &amp; Music, Snapdragon Wearables\",\"cvss_score\":\"4.6\",\"exploit_count\":\"0\",\"publish_date\":\"2021-02-22\",\"update_date\":\"2021-07-21\",\"url\":\"http:\\/\\/www.cvedetails.com\\/cve\\/CVE-2020-11282\\/\"}\r",
      "\r\n",
      ",\r",
      "\r\n",
      "{\"cve_id\":\"CVE-2020-11268\",\"cwe_id\":\"20\",\"summary\":\"Potential UE reset while decoding a crafted Sib1 or SIB1 that schedules unsupported SIBs and can lead to denial of service in Snapdragon Auto, Snapdragon Mobile\",\"cvss_score\":\"5.0\",\"exploit_count\":\"0\",\"publish_date\":\"2021-05-07\",\"update_date\":\"2021-05-14\",\"url\":\"http:\\/\\/www.cvedetails.com\\/cve\\/CVE-2020-11268\\/\"}\r",
      "\r\n",
      ",\r",
      "\r\n",
      "{\"cve_id\":\"CVE-2020-11216\",\"cwe_id\":\"190\",\"summary\":\"Buffer over read can happen in video driver when playing clip with atomsize having value UINT32_MAX in Snapdragon Auto, Snapdragon Compute, Snapdragon Connectivity, Snapdragon Consumer IOT, Snapdragon Industrial IOT, Snapdragon Mobile, Snapdragon Voice &amp; Music, Snapdragon Wearables\",\"cvss_score\":\"7.5\",\"exploit_count\":\"0\",\"publish_date\":\"2021-01-21\",\"update_date\":\"2021-07-21\",\"url\":\"http:\\/\\/www.cvedetails.com\\/cve\\/CVE-2020-11216\\/\"}\r",
      "\r\n",
      ",\r",
      "\r\n",
      "{\"cve_id\":\"CVE-2020-11213\",\"cwe_id\":\"125\",\"summary\":\"Out of bound reads might occur in while processing Service descriptor due to improper validation of length of fields in Snapdragon Auto, Snapdragon Compute, Snapdragon Connectivity, Snapdragon Consumer Electronics Connectivity, Snapdragon Consumer IOT, Snapdragon Industrial IOT, Snapdragon IoT, Snapdragon Mobile, Snapdragon Voice &amp; Music, Snapdragon Wearables, Snapdragon Wired Infrastructure and Networking\",\"cvss_score\":\"7.5\",\"exploit_count\":\"0\",\"publish_date\":\"2021-01-21\",\"update_date\":\"2021-02-01\",\"url\":\"http:\\/\\/www.cvedetails.com\\/cve\\/CVE-2020-11213\\/\"}\r",
      "\r\n",
      ",\r",
      "\r\n",
      "{\"cve_id\":\"CVE-2020-11212\",\"cwe_id\":\"125\",\"summary\":\"Out of bounds reads while parsing NAN beacons attributes and OUIs due to improper length of field check in Snapdragon Auto, Snapdragon Compute, Snapdragon Connectivity, Snapdragon Consumer Electronics Connectivity, Snapdragon Consumer IOT, Snapdragon Industrial IOT, Snapdragon IoT, Snapdragon Mobile, Snapdragon Voice &amp; Music, Snapdragon Wired Infrastructure and Networking\",\"cvss_score\":\"7.5\",\"exploit_count\":\"0\",\"publish_date\":\"2021-01-21\",\"update_date\":\"2021-01-29\",\"url\":\"http:\\/\\/www.cvedetails.com\\/cve\\/CVE-2020-11212\\/\"}\r",
      "\r\n",
      ",\r",
      "\r\n",
      "{\"cve_id\":\"CVE-2020-11197\",\"cwe_id\":\"190\",\"summary\":\"Possible integer overflow can occur when stream info update is called when total number of streams detected are zero while parsing TS clip with invalid data in Snapdragon Auto, Snapdragon Compute, Snapdragon Connectivity, Snapdragon Consumer IOT, Snapdragon Industrial IOT, Snapdragon Mobile, Snapdragon Voice &amp; Music, Snapdragon Wearables\",\"cvss_score\":\"7.5\",\"exploit_count\":\"0\",\"publish_date\":\"2021-01-21\",\"update_date\":\"2021-01-29\",\"url\":\"http:\\/\\/www.cvedetails.com\\/cve\\/CVE-2020-11197\\/\"}\r",
      "\r\n",
      ",\r",
      "\r\n",
      "{\"cve_id\":\"CVE-2020-11183\",\"cwe_id\":\"120\",\"summary\":\"A process can potentially cause a buffer overflow in the display service allowing privilege escalation by executing code as that service in Snapdragon Auto, Snapdragon Connectivity, Snapdragon Consumer IOT, Snapdragon Industrial IOT, Snapdragon Mobile, Snapdragon Voice &amp; Music, Snapdragon Wearables\",\"cvss_score\":\"7.2\",\"exploit_count\":\"0\",\"publish_date\":\"2021-01-21\",\"update_date\":\"2021-01-29\",\"url\":\"http:\\/\\/www.cvedetails.com\\/cve\\/CVE-2020-11183\\/\"}\r",
      "\r\n",
      "]"
     ]
    }
   ],
   "source": [
    "!curl \"https://www.cvedetails.com/json-feed.php?product_id=68301\""
   ]
  },
  {
   "cell_type": "code",
   "execution_count": null,
   "metadata": {},
   "outputs": [],
   "source": []
  }
 ],
 "metadata": {
  "kernelspec": {
   "display_name": "Python 3",
   "language": "python",
   "name": "python3"
  },
  "language_info": {
   "codemirror_mode": {
    "name": "ipython",
    "version": 3
   },
   "file_extension": ".py",
   "mimetype": "text/x-python",
   "name": "python",
   "nbconvert_exporter": "python",
   "pygments_lexer": "ipython3",
   "version": "3.8.10"
  }
 },
 "nbformat": 4,
 "nbformat_minor": 2
}
