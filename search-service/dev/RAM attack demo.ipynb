{
 "cells": [
  {
   "cell_type": "code",
   "execution_count": 8,
   "metadata": {},
   "outputs": [],
   "source": [
    "import webzio\n",
    "import json"
   ]
  },
  {
   "cell_type": "code",
   "execution_count": 4,
   "metadata": {},
   "outputs": [],
   "source": [
    "try:\n",
    "     webzio.config(token=\"bf68f10a-72d6-4dd9-a539-524a7621a2a2\")\n",
    "except:\n",
    "      print(\"Webz.io API token missing!!!\")"
   ]
  },
  {
   "cell_type": "code",
   "execution_count": 5,
   "metadata": {},
   "outputs": [],
   "source": [
    "searchQuery = {\n",
    "                \"q\": \"\\\"LPDDR4x\\\"-\\\"mobile\\\" language:english (site_type:news OR site_type:blog)\",\n",
    "                \"sort\": \"crawled\"\n",
    "              }"
   ]
  },
  {
   "cell_type": "code",
   "execution_count": 10,
   "metadata": {},
   "outputs": [],
   "source": [
    "dummyResponse = webzio.query(\"filterWebContent\",searchQuery)        #'filterWebContent' is to fetch data from webContent category of Webz.io (Blogs and stuff)"
   ]
  },
  {
   "cell_type": "code",
   "execution_count": 9,
   "metadata": {},
   "outputs": [],
   "source": [
    "with open('LPDDR4x_response.json','w',encoding='utf-8') as f:     #Cache data  #TODO: prepare some iterator to save new JSON files\n",
    "    json.dump(dummyResponse,f,ensure_ascii=False,indent=4)"
   ]
  },
  {
   "cell_type": "code",
   "execution_count": null,
   "metadata": {},
   "outputs": [],
   "source": []
  }
 ],
 "metadata": {
  "kernelspec": {
   "display_name": "Python 3",
   "language": "python",
   "name": "python3"
  },
  "language_info": {
   "codemirror_mode": {
    "name": "ipython",
    "version": 3
   },
   "file_extension": ".py",
   "mimetype": "text/x-python",
   "name": "python",
   "nbconvert_exporter": "python",
   "pygments_lexer": "ipython3",
   "version": "3.8.10"
  }
 },
 "nbformat": 4,
 "nbformat_minor": 2
}
